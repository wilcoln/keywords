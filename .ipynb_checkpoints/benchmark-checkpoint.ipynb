{
 "cells": [
  {
   "cell_type": "code",
   "execution_count": 1,
   "metadata": {},
   "outputs": [
    {
     "name": "stderr",
     "output_type": "stream",
     "text": [
      "[nltk_data] Downloading package stopwords to\n",
      "[nltk_data]     /home/wilcoln/nltk_data...\n",
      "[nltk_data]   Package stopwords is already up-to-date!\n",
      "[nltk_data] Downloading package universal_tagset to\n",
      "[nltk_data]     /home/wilcoln/nltk_data...\n",
      "[nltk_data]   Package universal_tagset is already up-to-date!\n"
     ]
    }
   ],
   "source": [
    "from typing import List, Dict, Any\n",
    "\n",
    "from collections import defaultdict\n",
    "import numpy as np\n",
    "import pandas as pd\n",
    "\n",
    "from sklearn.metrics.pairwise import cosine_similarity\n",
    "from sklearn.metrics import ndcg_score\n",
    "\n",
    "import ml_metrics\n",
    "import plotly.graph_objs as go\n",
    "import plotly.graph_objects as go\n",
    "import plotly.express as px\n",
    "\n",
    "import random\n",
    "from keywords import datasets, extractors"
   ]
  },
  {
   "cell_type": "markdown",
   "metadata": {},
   "source": [
    "## Randomly choose data"
   ]
  },
  {
   "cell_type": "code",
   "execution_count": 2,
   "metadata": {},
   "outputs": [],
   "source": [
    "def get_data(name: str, \n",
    "             n_: int):\n",
    "    '''\n",
    "    This function will fetch the data based on the name of the dataset. It will:\n",
    "       1. load the dataset\n",
    "       2. get rid of records in which # of keywords > # of words in the original text\n",
    "       3. randomly sample numbers of dataset to use, based on 2nd parameter: n\n",
    "    '''\n",
    "    from keywords import datasets\n",
    "    data = datasets.load(name)\n",
    "    \n",
    "    data_ = data['corpora']\n",
    "    new_data = []\n",
    "    \n",
    "    # get rid of data in which # of keywords > # words in text\n",
    "    for i in range(len(data_)):\n",
    "        text = data_[i]['text']\n",
    "        keys = data_[i]['keywords']\n",
    "        \n",
    "        if len(text.split()) > len(keys) + 30:\n",
    "            new_data.append(data_[i])\n",
    "    \n",
    "    # sample the data without replacements\n",
    "    test_texts = random.sample(new_data, n_)\n",
    "    \n",
    "    \n",
    "    \n",
    "    return test_texts"
   ]
  },
  {
   "cell_type": "markdown",
   "metadata": {},
   "source": [
    "## Initialize the algoritms"
   ]
  },
  {
   "cell_type": "code",
   "execution_count": 3,
   "metadata": {},
   "outputs": [],
   "source": [
    "def get_output(documents: List[str],\n",
    "                text:str, \n",
    "                keys:List[str]):\n",
    "    '''\n",
    "    This function will initialize all algorithms,\n",
    "    and output the results from them. It then wrap \n",
    "    all results into a dictionary. \n",
    "    \n",
    "    Notice: \n",
    "        If new algorithms has been added in, then new\n",
    "        initialization code needs to be added here\n",
    "    '''\n",
    "    \n",
    "    test_extractors = [\n",
    "        extractors.YakeExtractor,\n",
    "        extractors.TextRankExtractor,\n",
    "        extractors.KPMinerExtractor,\n",
    "        extractors.TfIdfExtractor,\n",
    "        extractors.RakeExtractor,\n",
    "        extractors.TopicRankExtractor,\n",
    "        extractors.SingleRankExtractor,\n",
    "        extractors.PositionRankExtractor,\n",
    "        extractors.MultipartiteRankExtractor,\n",
    "#         extractors.KeyBertExtractor,\n",
    "    ]\n",
    "\n",
    "    output_dic = []\n",
    "    for extractor in test_extractors:\n",
    "        model = extractor(n_gram=4, total_keywords_in_training=300, documents=documents)\n",
    "        tuples = [(item['keyword'], item['score']) for item in model.predict(text=text, topn=len(keys))]\n",
    "        sorted_list = [item[0] for item in tuples]\n",
    "        output_dic.append({model.__class__.__name__: sorted_list, 'expected': keys})\n",
    "    \n",
    "    return output_dic"
   ]
  },
  {
   "cell_type": "code",
   "execution_count": 10,
   "metadata": {},
   "outputs": [],
   "source": [
    "# average precison\n",
    "def apk(actual: List[str], \n",
    "        predicted: List[str], \n",
    "        k: int):\n",
    "    \"\"\"\n",
    "    Computes the average precision at k.\n",
    "    This function computes the average prescision at k between two lists of\n",
    "    items.\n",
    "    Parameters\n",
    "    ----------\n",
    "    actual : list\n",
    "             A list of elements that are to be predicted (order doesn't matter)\n",
    "    predicted : list\n",
    "                A list of predicted elements (order does matter)\n",
    "    k : int\n",
    "        The maximum number of predicted elements\n",
    "    Returns\n",
    "    -------\n",
    "    score : double\n",
    "            The average precision at k over the input lists\n",
    "    \"\"\"\n",
    "    if len(predicted)>k:\n",
    "        predicted = predicted[:k]\n",
    "\n",
    "    score = 0.0\n",
    "    num_hits = 0.0\n",
    "\n",
    "    for i,p in enumerate(predicted):\n",
    "        if p in actual and p not in predicted[:i]:\n",
    "            num_hits += 1.0\n",
    "            score += num_hits / (i+1.0)\n",
    "\n",
    "    if not actual:\n",
    "        return 0.0\n",
    "\n",
    "    return score / min(len(actual), k)\n",
    "\n",
    "# mean average precision\n",
    "def mapk(actual: List[str], \n",
    "         predicted: List[str], \n",
    "         k: int):\n",
    "    \"\"\"\n",
    "    Computes the mean average precision at k.\n",
    "    This function computes the mean average prescision at k between two lists\n",
    "    of lists of items.\n",
    "    Parameters\n",
    "    ----------\n",
    "    actual : list\n",
    "             A list of lists of elements that are to be predicted \n",
    "             (order doesn't matter in the lists)\n",
    "    predicted : list\n",
    "                A list of lists of predicted elements\n",
    "                (order matters in the lists)\n",
    "    k : int, optional\n",
    "        The maximum number of predicted elements\n",
    "    Returns\n",
    "    -------\n",
    "    score : double\n",
    "            The mean average precision at k over the input lists\n",
    "    \"\"\"\n",
    "    return np.mean([apk(a,p,k) for a,p in zip(actual, predicted)])\n",
    "\n",
    "def visual_bench(name: str, n:int, k: int=None):\n",
    "    \"\"\"\n",
    "    Visualize mean average precision for each algorithm given random data \n",
    "    Parameters\n",
    "    ----------\n",
    "    name: the name of the original dataset\n",
    "                 \n",
    "    k : int, optional\n",
    "        The maximum number of predicted elements, if it's none, then it will be set equals to # of goldkeys for each pair\n",
    "        \n",
    "    n: int\n",
    "        The number of data that needs to be choose\n",
    "        \n",
    "    Returns\n",
    "    -------\n",
    "     map scores for each algorithms : Pandas dataframe\n",
    "            A pandas dataframe containing map scores for each algorithm\n",
    "    \"\"\"\n",
    "    data = get_data(name, n)\n",
    "    xs = []\n",
    "    output_dict_ = []\n",
    "    for i in range(len(data)):\n",
    "        text = data[i]['text']\n",
    "        keys = data[i]['keywords']\n",
    "    \n",
    "        if k == None:\n",
    "            k = len(keys)\n",
    "        \n",
    "        output_dict = get_output([text],text, keys)\n",
    "        output_dict_.append(output_dict)\n",
    "        xs.append(data[i]['id']) # store dataid\n",
    "    \n",
    "    \n",
    "    # get map scores for each data\n",
    "    scores = [] \n",
    "    for i in range(len(output_dict_)):\n",
    "        results = output_dict_[i]\n",
    "        \n",
    "        mpk_scores = []\n",
    "        for j in range(len(results)):\n",
    "            predicted = results[j][f'{list(results[j].keys())[0]}']\n",
    "            actual = results[j][f'{list(results[j].keys())[1]}']\n",
    "            mapk_score = mapk(actual, predicted, k)\n",
    "            \n",
    "            mpk_scores.append({f'{list(results[j].keys())[0]}': mapk_score})\n",
    "            \n",
    "        scores.append(mpk_scores)\n",
    "    \n",
    "    # formalize scores\n",
    "    scores_ = []\n",
    "    for item in scores:\n",
    "        s = []\n",
    "        for i in item:\n",
    "            s.extend(list(i.values()))\n",
    "        scores_.append(s)\n",
    "        \n",
    "    # retrieve name of algoritms    \n",
    "    algo = [list(item.keys())[0] for item in scores[0]]\n",
    "\n",
    "    # create a dataframe\n",
    "    df = pd.DataFrame(data = scores_, index = xs, columns = algo).reset_index()\\\n",
    "                    .rename(columns={\"index\":'text'})\n",
    "        \n",
    "    # visualization\n",
    "    df_=pd.melt(df,id_vars=['text'],var_name='algo', value_name='MAP value')\n",
    "    fig = px.bar(df_, \n",
    "             x=\"text\", \n",
    "             color=\"algo\",\n",
    "             y='MAP value',\n",
    "             title=\"Mean Average Precision\",\n",
    "             barmode='group',\n",
    "            )\n",
    "\n",
    "    fig.show()\n",
    "    \n",
    "    return df\n"
   ]
  },
  {
   "cell_type": "code",
   "execution_count": 11,
   "metadata": {},
   "outputs": [
    {
     "name": "stderr",
     "output_type": "stream",
     "text": [
      "WARNING:root:LoadFile._df_counts is hard coded to /home/wilcoln/Workspace/The-AI-Institute/keywords/venv/lib/python3.8/site-packages/pke/models/df-semeval2010.tsv.gz\n",
      "WARNING:root:LoadFile._df_counts is hard coded to /home/wilcoln/Workspace/The-AI-Institute/keywords/venv/lib/python3.8/site-packages/pke/models/df-semeval2010.tsv.gz\n",
      "WARNING:root:LoadFile._df_counts is hard coded to /home/wilcoln/Workspace/The-AI-Institute/keywords/venv/lib/python3.8/site-packages/pke/models/df-semeval2010.tsv.gz\n",
      "WARNING:root:LoadFile._df_counts is hard coded to /home/wilcoln/Workspace/The-AI-Institute/keywords/venv/lib/python3.8/site-packages/pke/models/df-semeval2010.tsv.gz\n",
      "WARNING:root:LoadFile._df_counts is hard coded to /home/wilcoln/Workspace/The-AI-Institute/keywords/venv/lib/python3.8/site-packages/pke/models/df-semeval2010.tsv.gz\n",
      "WARNING:root:LoadFile._df_counts is hard coded to /home/wilcoln/Workspace/The-AI-Institute/keywords/venv/lib/python3.8/site-packages/pke/models/df-semeval2010.tsv.gz\n",
      "WARNING:root:LoadFile._df_counts is hard coded to /home/wilcoln/Workspace/The-AI-Institute/keywords/venv/lib/python3.8/site-packages/pke/models/df-semeval2010.tsv.gz\n",
      "WARNING:root:LoadFile._df_counts is hard coded to /home/wilcoln/Workspace/The-AI-Institute/keywords/venv/lib/python3.8/site-packages/pke/models/df-semeval2010.tsv.gz\n",
      "WARNING:root:LoadFile._df_counts is hard coded to /home/wilcoln/Workspace/The-AI-Institute/keywords/venv/lib/python3.8/site-packages/pke/models/df-semeval2010.tsv.gz\n",
      "WARNING:root:LoadFile._df_counts is hard coded to /home/wilcoln/Workspace/The-AI-Institute/keywords/venv/lib/python3.8/site-packages/pke/models/df-semeval2010.tsv.gz\n",
      "/home/wilcoln/Workspace/The-AI-Institute/keywords/venv/lib/python3.8/site-packages/numpy/core/fromnumeric.py:3419: RuntimeWarning:\n",
      "\n",
      "Mean of empty slice.\n",
      "\n",
      "/home/wilcoln/Workspace/The-AI-Institute/keywords/venv/lib/python3.8/site-packages/numpy/core/_methods.py:188: RuntimeWarning:\n",
      "\n",
      "invalid value encountered in double_scalars\n",
      "\n"
     ]
    },
    {
     "data": {
      "application/vnd.plotly.v1+json": {
       "config": {
        "plotlyServerURL": "https://plot.ly"
       },
       "data": [
        {
         "alignmentgroup": "True",
         "hovertemplate": "algo=YakeExtractor<br>text=%{x}<br>MAP value=%{y}<extra></extra>",
         "legendgroup": "YakeExtractor",
         "marker": {
          "color": "#636efa"
         },
         "name": "YakeExtractor",
         "offsetgroup": "YakeExtractor",
         "orientation": "v",
         "showlegend": true,
         "textposition": "auto",
         "type": "bar",
         "x": [
          "health-20941742",
          "sports-20954133",
          "art_and_culture-20927516",
          "art_and_culture-20900470",
          "art_and_culture-20924855",
          "politics_us-20952164",
          "crime-20955365",
          "health-20937946",
          "tech-20949665",
          "sports-20953328"
         ],
         "xaxis": "x",
         "y": [
          0.2521921141485773,
          0.1713452264951538,
          0.17154288577131827,
          0.1962938103240352,
          0.22343088737033667,
          0.23650890911920322,
          0.14850926604778145,
          0.17951863187847727,
          0.18207684853451378,
          0.2276098033767646
         ],
         "yaxis": "y"
        },
        {
         "alignmentgroup": "True",
         "hovertemplate": "algo=TextRankExtractor<br>text=%{x}<br>MAP value=%{y}<extra></extra>",
         "legendgroup": "TextRankExtractor",
         "marker": {
          "color": "#EF553B"
         },
         "name": "TextRankExtractor",
         "offsetgroup": "TextRankExtractor",
         "orientation": "v",
         "showlegend": true,
         "textposition": "auto",
         "type": "bar",
         "x": [
          "health-20941742",
          "sports-20954133",
          "art_and_culture-20927516",
          "art_and_culture-20900470",
          "art_and_culture-20924855",
          "politics_us-20952164",
          "crime-20955365",
          "health-20937946",
          "tech-20949665",
          "sports-20953328"
         ],
         "xaxis": "x",
         "y": [
          0.1652695449730706,
          0.16371363918125725,
          0.1784107630970026,
          0.18204372050491735,
          0.1710972759848421,
          0.12566755995327422,
          0.23157780494568542,
          0.1726038549761257,
          0.20692739104978525,
          0.17874400634038698
         ],
         "yaxis": "y"
        },
        {
         "alignmentgroup": "True",
         "hovertemplate": "algo=KPMinerExtractor<br>text=%{x}<br>MAP value=%{y}<extra></extra>",
         "legendgroup": "KPMinerExtractor",
         "marker": {
          "color": "#00cc96"
         },
         "name": "KPMinerExtractor",
         "offsetgroup": "KPMinerExtractor",
         "orientation": "v",
         "showlegend": true,
         "textposition": "auto",
         "type": "bar",
         "x": [
          "health-20941742",
          "sports-20954133",
          "art_and_culture-20927516",
          "art_and_culture-20900470",
          "art_and_culture-20924855",
          "politics_us-20952164",
          "crime-20955365",
          "health-20937946",
          "tech-20949665",
          "sports-20953328"
         ],
         "xaxis": "x",
         "y": [
          0.13444444444444445,
          0.21469421101774044,
          0.07897376543209876,
          0.1896022297808012,
          0.18982603815937152,
          null,
          0.16103732783420283,
          0.1477272727272727,
          0.17301333340335898,
          0.13469854797979797
         ],
         "yaxis": "y"
        },
        {
         "alignmentgroup": "True",
         "hovertemplate": "algo=TfIdfExtractor<br>text=%{x}<br>MAP value=%{y}<extra></extra>",
         "legendgroup": "TfIdfExtractor",
         "marker": {
          "color": "#ab63fa"
         },
         "name": "TfIdfExtractor",
         "offsetgroup": "TfIdfExtractor",
         "orientation": "v",
         "showlegend": true,
         "textposition": "auto",
         "type": "bar",
         "x": [
          "health-20941742",
          "sports-20954133",
          "art_and_culture-20927516",
          "art_and_culture-20900470",
          "art_and_culture-20924855",
          "politics_us-20952164",
          "crime-20955365",
          "health-20937946",
          "tech-20949665",
          "sports-20953328"
         ],
         "xaxis": "x",
         "y": [
          0.3065655212099562,
          0.18317191769154004,
          0.19242445714849882,
          0.25675740960798094,
          0.1697089402791157,
          0.24472440960826655,
          0.2080225903559337,
          0.2777235576232685,
          0.21226054808243155,
          0.24710820436121708
         ],
         "yaxis": "y"
        },
        {
         "alignmentgroup": "True",
         "hovertemplate": "algo=RakeExtractor<br>text=%{x}<br>MAP value=%{y}<extra></extra>",
         "legendgroup": "RakeExtractor",
         "marker": {
          "color": "#FFA15A"
         },
         "name": "RakeExtractor",
         "offsetgroup": "RakeExtractor",
         "orientation": "v",
         "showlegend": true,
         "textposition": "auto",
         "type": "bar",
         "x": [
          "health-20941742",
          "sports-20954133",
          "art_and_culture-20927516",
          "art_and_culture-20900470",
          "art_and_culture-20924855",
          "politics_us-20952164",
          "crime-20955365",
          "health-20937946",
          "tech-20949665",
          "sports-20953328"
         ],
         "xaxis": "x",
         "y": [
          0.18234434218605583,
          0.2003703401615766,
          0.19197551596419998,
          0.2045348036893021,
          0.16998541762898403,
          0.1714079952968842,
          0.1752467228334299,
          0.2020223712470319,
          0.18325956379918165,
          0.21919546331136908
         ],
         "yaxis": "y"
        },
        {
         "alignmentgroup": "True",
         "hovertemplate": "algo=TopicRankExtractor<br>text=%{x}<br>MAP value=%{y}<extra></extra>",
         "legendgroup": "TopicRankExtractor",
         "marker": {
          "color": "#19d3f3"
         },
         "name": "TopicRankExtractor",
         "offsetgroup": "TopicRankExtractor",
         "orientation": "v",
         "showlegend": true,
         "textposition": "auto",
         "type": "bar",
         "x": [
          "health-20941742",
          "sports-20954133",
          "art_and_culture-20927516",
          "art_and_culture-20900470",
          "art_and_culture-20924855",
          "politics_us-20952164",
          "crime-20955365",
          "health-20937946",
          "tech-20949665",
          "sports-20953328"
         ],
         "xaxis": "x",
         "y": [
          0.15801128029233258,
          0.1897958087189691,
          0.1793027621220723,
          0.19913193077671368,
          0.15989905756569442,
          0.238581865665199,
          0.12422225772593419,
          0.14852727521563716,
          0.18380179047658343,
          0.19717087975733616
         ],
         "yaxis": "y"
        },
        {
         "alignmentgroup": "True",
         "hovertemplate": "algo=SingleRankExtractor<br>text=%{x}<br>MAP value=%{y}<extra></extra>",
         "legendgroup": "SingleRankExtractor",
         "marker": {
          "color": "#FF6692"
         },
         "name": "SingleRankExtractor",
         "offsetgroup": "SingleRankExtractor",
         "orientation": "v",
         "showlegend": true,
         "textposition": "auto",
         "type": "bar",
         "x": [
          "health-20941742",
          "sports-20954133",
          "art_and_culture-20927516",
          "art_and_culture-20900470",
          "art_and_culture-20924855",
          "politics_us-20952164",
          "crime-20955365",
          "health-20937946",
          "tech-20949665",
          "sports-20953328"
         ],
         "xaxis": "x",
         "y": [
          0.19983397359999922,
          0.19593543748745948,
          0.21886192864480683,
          0.21604596573519116,
          0.21364248985489587,
          0.15012428708857278,
          0.2184613345316543,
          0.18566430870160053,
          0.19488526890260643,
          0.18619323152090783
         ],
         "yaxis": "y"
        },
        {
         "alignmentgroup": "True",
         "hovertemplate": "algo=PositionRankExtractor<br>text=%{x}<br>MAP value=%{y}<extra></extra>",
         "legendgroup": "PositionRankExtractor",
         "marker": {
          "color": "#B6E880"
         },
         "name": "PositionRankExtractor",
         "offsetgroup": "PositionRankExtractor",
         "orientation": "v",
         "showlegend": true,
         "textposition": "auto",
         "type": "bar",
         "x": [
          "health-20941742",
          "sports-20954133",
          "art_and_culture-20927516",
          "art_and_culture-20900470",
          "art_and_culture-20924855",
          "politics_us-20952164",
          "crime-20955365",
          "health-20937946",
          "tech-20949665",
          "sports-20953328"
         ],
         "xaxis": "x",
         "y": [
          0.1528162023162023,
          0.16117066860786472,
          0.14503422252766754,
          0.23551728626850005,
          0.18837143372152768,
          0.32047235750360753,
          0.17308923269161677,
          0.22533437031477893,
          0.18516308123953054,
          0.18924070189867956
         ],
         "yaxis": "y"
        },
        {
         "alignmentgroup": "True",
         "hovertemplate": "algo=MultipartiteRankExtractor<br>text=%{x}<br>MAP value=%{y}<extra></extra>",
         "legendgroup": "MultipartiteRankExtractor",
         "marker": {
          "color": "#FF97FF"
         },
         "name": "MultipartiteRankExtractor",
         "offsetgroup": "MultipartiteRankExtractor",
         "orientation": "v",
         "showlegend": true,
         "textposition": "auto",
         "type": "bar",
         "x": [
          "health-20941742",
          "sports-20954133",
          "art_and_culture-20927516",
          "art_and_culture-20900470",
          "art_and_culture-20924855",
          "politics_us-20952164",
          "crime-20955365",
          "health-20937946",
          "tech-20949665",
          "sports-20953328"
         ],
         "xaxis": "x",
         "y": [
          0.2318218778175488,
          0.16853453200733692,
          0.1514410388125724,
          0.1600017427295359,
          0.13220219796306754,
          0.2946707806082806,
          0.15752884615384613,
          0.17887262913640894,
          0.2009860151763108,
          0.18649528298144324
         ],
         "yaxis": "y"
        }
       ],
       "layout": {
        "barmode": "group",
        "legend": {
         "title": {
          "text": "algo"
         },
         "tracegroupgap": 0
        },
        "template": {
         "data": {
          "bar": [
           {
            "error_x": {
             "color": "#2a3f5f"
            },
            "error_y": {
             "color": "#2a3f5f"
            },
            "marker": {
             "line": {
              "color": "#E5ECF6",
              "width": 0.5
             }
            },
            "type": "bar"
           }
          ],
          "barpolar": [
           {
            "marker": {
             "line": {
              "color": "#E5ECF6",
              "width": 0.5
             }
            },
            "type": "barpolar"
           }
          ],
          "carpet": [
           {
            "aaxis": {
             "endlinecolor": "#2a3f5f",
             "gridcolor": "white",
             "linecolor": "white",
             "minorgridcolor": "white",
             "startlinecolor": "#2a3f5f"
            },
            "baxis": {
             "endlinecolor": "#2a3f5f",
             "gridcolor": "white",
             "linecolor": "white",
             "minorgridcolor": "white",
             "startlinecolor": "#2a3f5f"
            },
            "type": "carpet"
           }
          ],
          "choropleth": [
           {
            "colorbar": {
             "outlinewidth": 0,
             "ticks": ""
            },
            "type": "choropleth"
           }
          ],
          "contour": [
           {
            "colorbar": {
             "outlinewidth": 0,
             "ticks": ""
            },
            "colorscale": [
             [
              0,
              "#0d0887"
             ],
             [
              0.1111111111111111,
              "#46039f"
             ],
             [
              0.2222222222222222,
              "#7201a8"
             ],
             [
              0.3333333333333333,
              "#9c179e"
             ],
             [
              0.4444444444444444,
              "#bd3786"
             ],
             [
              0.5555555555555556,
              "#d8576b"
             ],
             [
              0.6666666666666666,
              "#ed7953"
             ],
             [
              0.7777777777777778,
              "#fb9f3a"
             ],
             [
              0.8888888888888888,
              "#fdca26"
             ],
             [
              1,
              "#f0f921"
             ]
            ],
            "type": "contour"
           }
          ],
          "contourcarpet": [
           {
            "colorbar": {
             "outlinewidth": 0,
             "ticks": ""
            },
            "type": "contourcarpet"
           }
          ],
          "heatmap": [
           {
            "colorbar": {
             "outlinewidth": 0,
             "ticks": ""
            },
            "colorscale": [
             [
              0,
              "#0d0887"
             ],
             [
              0.1111111111111111,
              "#46039f"
             ],
             [
              0.2222222222222222,
              "#7201a8"
             ],
             [
              0.3333333333333333,
              "#9c179e"
             ],
             [
              0.4444444444444444,
              "#bd3786"
             ],
             [
              0.5555555555555556,
              "#d8576b"
             ],
             [
              0.6666666666666666,
              "#ed7953"
             ],
             [
              0.7777777777777778,
              "#fb9f3a"
             ],
             [
              0.8888888888888888,
              "#fdca26"
             ],
             [
              1,
              "#f0f921"
             ]
            ],
            "type": "heatmap"
           }
          ],
          "heatmapgl": [
           {
            "colorbar": {
             "outlinewidth": 0,
             "ticks": ""
            },
            "colorscale": [
             [
              0,
              "#0d0887"
             ],
             [
              0.1111111111111111,
              "#46039f"
             ],
             [
              0.2222222222222222,
              "#7201a8"
             ],
             [
              0.3333333333333333,
              "#9c179e"
             ],
             [
              0.4444444444444444,
              "#bd3786"
             ],
             [
              0.5555555555555556,
              "#d8576b"
             ],
             [
              0.6666666666666666,
              "#ed7953"
             ],
             [
              0.7777777777777778,
              "#fb9f3a"
             ],
             [
              0.8888888888888888,
              "#fdca26"
             ],
             [
              1,
              "#f0f921"
             ]
            ],
            "type": "heatmapgl"
           }
          ],
          "histogram": [
           {
            "marker": {
             "colorbar": {
              "outlinewidth": 0,
              "ticks": ""
             }
            },
            "type": "histogram"
           }
          ],
          "histogram2d": [
           {
            "colorbar": {
             "outlinewidth": 0,
             "ticks": ""
            },
            "colorscale": [
             [
              0,
              "#0d0887"
             ],
             [
              0.1111111111111111,
              "#46039f"
             ],
             [
              0.2222222222222222,
              "#7201a8"
             ],
             [
              0.3333333333333333,
              "#9c179e"
             ],
             [
              0.4444444444444444,
              "#bd3786"
             ],
             [
              0.5555555555555556,
              "#d8576b"
             ],
             [
              0.6666666666666666,
              "#ed7953"
             ],
             [
              0.7777777777777778,
              "#fb9f3a"
             ],
             [
              0.8888888888888888,
              "#fdca26"
             ],
             [
              1,
              "#f0f921"
             ]
            ],
            "type": "histogram2d"
           }
          ],
          "histogram2dcontour": [
           {
            "colorbar": {
             "outlinewidth": 0,
             "ticks": ""
            },
            "colorscale": [
             [
              0,
              "#0d0887"
             ],
             [
              0.1111111111111111,
              "#46039f"
             ],
             [
              0.2222222222222222,
              "#7201a8"
             ],
             [
              0.3333333333333333,
              "#9c179e"
             ],
             [
              0.4444444444444444,
              "#bd3786"
             ],
             [
              0.5555555555555556,
              "#d8576b"
             ],
             [
              0.6666666666666666,
              "#ed7953"
             ],
             [
              0.7777777777777778,
              "#fb9f3a"
             ],
             [
              0.8888888888888888,
              "#fdca26"
             ],
             [
              1,
              "#f0f921"
             ]
            ],
            "type": "histogram2dcontour"
           }
          ],
          "mesh3d": [
           {
            "colorbar": {
             "outlinewidth": 0,
             "ticks": ""
            },
            "type": "mesh3d"
           }
          ],
          "parcoords": [
           {
            "line": {
             "colorbar": {
              "outlinewidth": 0,
              "ticks": ""
             }
            },
            "type": "parcoords"
           }
          ],
          "pie": [
           {
            "automargin": true,
            "type": "pie"
           }
          ],
          "scatter": [
           {
            "marker": {
             "colorbar": {
              "outlinewidth": 0,
              "ticks": ""
             }
            },
            "type": "scatter"
           }
          ],
          "scatter3d": [
           {
            "line": {
             "colorbar": {
              "outlinewidth": 0,
              "ticks": ""
             }
            },
            "marker": {
             "colorbar": {
              "outlinewidth": 0,
              "ticks": ""
             }
            },
            "type": "scatter3d"
           }
          ],
          "scattercarpet": [
           {
            "marker": {
             "colorbar": {
              "outlinewidth": 0,
              "ticks": ""
             }
            },
            "type": "scattercarpet"
           }
          ],
          "scattergeo": [
           {
            "marker": {
             "colorbar": {
              "outlinewidth": 0,
              "ticks": ""
             }
            },
            "type": "scattergeo"
           }
          ],
          "scattergl": [
           {
            "marker": {
             "colorbar": {
              "outlinewidth": 0,
              "ticks": ""
             }
            },
            "type": "scattergl"
           }
          ],
          "scattermapbox": [
           {
            "marker": {
             "colorbar": {
              "outlinewidth": 0,
              "ticks": ""
             }
            },
            "type": "scattermapbox"
           }
          ],
          "scatterpolar": [
           {
            "marker": {
             "colorbar": {
              "outlinewidth": 0,
              "ticks": ""
             }
            },
            "type": "scatterpolar"
           }
          ],
          "scatterpolargl": [
           {
            "marker": {
             "colorbar": {
              "outlinewidth": 0,
              "ticks": ""
             }
            },
            "type": "scatterpolargl"
           }
          ],
          "scatterternary": [
           {
            "marker": {
             "colorbar": {
              "outlinewidth": 0,
              "ticks": ""
             }
            },
            "type": "scatterternary"
           }
          ],
          "surface": [
           {
            "colorbar": {
             "outlinewidth": 0,
             "ticks": ""
            },
            "colorscale": [
             [
              0,
              "#0d0887"
             ],
             [
              0.1111111111111111,
              "#46039f"
             ],
             [
              0.2222222222222222,
              "#7201a8"
             ],
             [
              0.3333333333333333,
              "#9c179e"
             ],
             [
              0.4444444444444444,
              "#bd3786"
             ],
             [
              0.5555555555555556,
              "#d8576b"
             ],
             [
              0.6666666666666666,
              "#ed7953"
             ],
             [
              0.7777777777777778,
              "#fb9f3a"
             ],
             [
              0.8888888888888888,
              "#fdca26"
             ],
             [
              1,
              "#f0f921"
             ]
            ],
            "type": "surface"
           }
          ],
          "table": [
           {
            "cells": {
             "fill": {
              "color": "#EBF0F8"
             },
             "line": {
              "color": "white"
             }
            },
            "header": {
             "fill": {
              "color": "#C8D4E3"
             },
             "line": {
              "color": "white"
             }
            },
            "type": "table"
           }
          ]
         },
         "layout": {
          "annotationdefaults": {
           "arrowcolor": "#2a3f5f",
           "arrowhead": 0,
           "arrowwidth": 1
          },
          "autotypenumbers": "strict",
          "coloraxis": {
           "colorbar": {
            "outlinewidth": 0,
            "ticks": ""
           }
          },
          "colorscale": {
           "diverging": [
            [
             0,
             "#8e0152"
            ],
            [
             0.1,
             "#c51b7d"
            ],
            [
             0.2,
             "#de77ae"
            ],
            [
             0.3,
             "#f1b6da"
            ],
            [
             0.4,
             "#fde0ef"
            ],
            [
             0.5,
             "#f7f7f7"
            ],
            [
             0.6,
             "#e6f5d0"
            ],
            [
             0.7,
             "#b8e186"
            ],
            [
             0.8,
             "#7fbc41"
            ],
            [
             0.9,
             "#4d9221"
            ],
            [
             1,
             "#276419"
            ]
           ],
           "sequential": [
            [
             0,
             "#0d0887"
            ],
            [
             0.1111111111111111,
             "#46039f"
            ],
            [
             0.2222222222222222,
             "#7201a8"
            ],
            [
             0.3333333333333333,
             "#9c179e"
            ],
            [
             0.4444444444444444,
             "#bd3786"
            ],
            [
             0.5555555555555556,
             "#d8576b"
            ],
            [
             0.6666666666666666,
             "#ed7953"
            ],
            [
             0.7777777777777778,
             "#fb9f3a"
            ],
            [
             0.8888888888888888,
             "#fdca26"
            ],
            [
             1,
             "#f0f921"
            ]
           ],
           "sequentialminus": [
            [
             0,
             "#0d0887"
            ],
            [
             0.1111111111111111,
             "#46039f"
            ],
            [
             0.2222222222222222,
             "#7201a8"
            ],
            [
             0.3333333333333333,
             "#9c179e"
            ],
            [
             0.4444444444444444,
             "#bd3786"
            ],
            [
             0.5555555555555556,
             "#d8576b"
            ],
            [
             0.6666666666666666,
             "#ed7953"
            ],
            [
             0.7777777777777778,
             "#fb9f3a"
            ],
            [
             0.8888888888888888,
             "#fdca26"
            ],
            [
             1,
             "#f0f921"
            ]
           ]
          },
          "colorway": [
           "#636efa",
           "#EF553B",
           "#00cc96",
           "#ab63fa",
           "#FFA15A",
           "#19d3f3",
           "#FF6692",
           "#B6E880",
           "#FF97FF",
           "#FECB52"
          ],
          "font": {
           "color": "#2a3f5f"
          },
          "geo": {
           "bgcolor": "white",
           "lakecolor": "white",
           "landcolor": "#E5ECF6",
           "showlakes": true,
           "showland": true,
           "subunitcolor": "white"
          },
          "hoverlabel": {
           "align": "left"
          },
          "hovermode": "closest",
          "mapbox": {
           "style": "light"
          },
          "paper_bgcolor": "white",
          "plot_bgcolor": "#E5ECF6",
          "polar": {
           "angularaxis": {
            "gridcolor": "white",
            "linecolor": "white",
            "ticks": ""
           },
           "bgcolor": "#E5ECF6",
           "radialaxis": {
            "gridcolor": "white",
            "linecolor": "white",
            "ticks": ""
           }
          },
          "scene": {
           "xaxis": {
            "backgroundcolor": "#E5ECF6",
            "gridcolor": "white",
            "gridwidth": 2,
            "linecolor": "white",
            "showbackground": true,
            "ticks": "",
            "zerolinecolor": "white"
           },
           "yaxis": {
            "backgroundcolor": "#E5ECF6",
            "gridcolor": "white",
            "gridwidth": 2,
            "linecolor": "white",
            "showbackground": true,
            "ticks": "",
            "zerolinecolor": "white"
           },
           "zaxis": {
            "backgroundcolor": "#E5ECF6",
            "gridcolor": "white",
            "gridwidth": 2,
            "linecolor": "white",
            "showbackground": true,
            "ticks": "",
            "zerolinecolor": "white"
           }
          },
          "shapedefaults": {
           "line": {
            "color": "#2a3f5f"
           }
          },
          "ternary": {
           "aaxis": {
            "gridcolor": "white",
            "linecolor": "white",
            "ticks": ""
           },
           "baxis": {
            "gridcolor": "white",
            "linecolor": "white",
            "ticks": ""
           },
           "bgcolor": "#E5ECF6",
           "caxis": {
            "gridcolor": "white",
            "linecolor": "white",
            "ticks": ""
           }
          },
          "title": {
           "x": 0.05
          },
          "xaxis": {
           "automargin": true,
           "gridcolor": "white",
           "linecolor": "white",
           "ticks": "",
           "title": {
            "standoff": 15
           },
           "zerolinecolor": "white",
           "zerolinewidth": 2
          },
          "yaxis": {
           "automargin": true,
           "gridcolor": "white",
           "linecolor": "white",
           "ticks": "",
           "title": {
            "standoff": 15
           },
           "zerolinecolor": "white",
           "zerolinewidth": 2
          }
         }
        },
        "title": {
         "text": "Mean Average Precision"
        },
        "xaxis": {
         "anchor": "y",
         "domain": [
          0,
          1
         ],
         "title": {
          "text": "text"
         }
        },
        "yaxis": {
         "anchor": "x",
         "domain": [
          0,
          1
         ],
         "title": {
          "text": "MAP value"
         }
        }
       }
      },
      "text/html": [
       "<div>                            <div id=\"8ee91b5f-132e-4b71-96c7-67207b1edcec\" class=\"plotly-graph-div\" style=\"height:525px; width:100%;\"></div>            <script type=\"text/javascript\">                require([\"plotly\"], function(Plotly) {                    window.PLOTLYENV=window.PLOTLYENV || {};                                    if (document.getElementById(\"8ee91b5f-132e-4b71-96c7-67207b1edcec\")) {                    Plotly.newPlot(                        \"8ee91b5f-132e-4b71-96c7-67207b1edcec\",                        [{\"alignmentgroup\": \"True\", \"hovertemplate\": \"algo=YakeExtractor<br>text=%{x}<br>MAP value=%{y}<extra></extra>\", \"legendgroup\": \"YakeExtractor\", \"marker\": {\"color\": \"#636efa\"}, \"name\": \"YakeExtractor\", \"offsetgroup\": \"YakeExtractor\", \"orientation\": \"v\", \"showlegend\": true, \"textposition\": \"auto\", \"type\": \"bar\", \"x\": [\"health-20941742\", \"sports-20954133\", \"art_and_culture-20927516\", \"art_and_culture-20900470\", \"art_and_culture-20924855\", \"politics_us-20952164\", \"crime-20955365\", \"health-20937946\", \"tech-20949665\", \"sports-20953328\"], \"xaxis\": \"x\", \"y\": [0.2521921141485773, 0.1713452264951538, 0.17154288577131827, 0.1962938103240352, 0.22343088737033667, 0.23650890911920322, 0.14850926604778145, 0.17951863187847727, 0.18207684853451378, 0.2276098033767646], \"yaxis\": \"y\"}, {\"alignmentgroup\": \"True\", \"hovertemplate\": \"algo=TextRankExtractor<br>text=%{x}<br>MAP value=%{y}<extra></extra>\", \"legendgroup\": \"TextRankExtractor\", \"marker\": {\"color\": \"#EF553B\"}, \"name\": \"TextRankExtractor\", \"offsetgroup\": \"TextRankExtractor\", \"orientation\": \"v\", \"showlegend\": true, \"textposition\": \"auto\", \"type\": \"bar\", \"x\": [\"health-20941742\", \"sports-20954133\", \"art_and_culture-20927516\", \"art_and_culture-20900470\", \"art_and_culture-20924855\", \"politics_us-20952164\", \"crime-20955365\", \"health-20937946\", \"tech-20949665\", \"sports-20953328\"], \"xaxis\": \"x\", \"y\": [0.1652695449730706, 0.16371363918125725, 0.1784107630970026, 0.18204372050491735, 0.1710972759848421, 0.12566755995327422, 0.23157780494568542, 0.1726038549761257, 0.20692739104978525, 0.17874400634038698], \"yaxis\": \"y\"}, {\"alignmentgroup\": \"True\", \"hovertemplate\": \"algo=KPMinerExtractor<br>text=%{x}<br>MAP value=%{y}<extra></extra>\", \"legendgroup\": \"KPMinerExtractor\", \"marker\": {\"color\": \"#00cc96\"}, \"name\": \"KPMinerExtractor\", \"offsetgroup\": \"KPMinerExtractor\", \"orientation\": \"v\", \"showlegend\": true, \"textposition\": \"auto\", \"type\": \"bar\", \"x\": [\"health-20941742\", \"sports-20954133\", \"art_and_culture-20927516\", \"art_and_culture-20900470\", \"art_and_culture-20924855\", \"politics_us-20952164\", \"crime-20955365\", \"health-20937946\", \"tech-20949665\", \"sports-20953328\"], \"xaxis\": \"x\", \"y\": [0.13444444444444445, 0.21469421101774044, 0.07897376543209876, 0.1896022297808012, 0.18982603815937152, null, 0.16103732783420283, 0.1477272727272727, 0.17301333340335898, 0.13469854797979797], \"yaxis\": \"y\"}, {\"alignmentgroup\": \"True\", \"hovertemplate\": \"algo=TfIdfExtractor<br>text=%{x}<br>MAP value=%{y}<extra></extra>\", \"legendgroup\": \"TfIdfExtractor\", \"marker\": {\"color\": \"#ab63fa\"}, \"name\": \"TfIdfExtractor\", \"offsetgroup\": \"TfIdfExtractor\", \"orientation\": \"v\", \"showlegend\": true, \"textposition\": \"auto\", \"type\": \"bar\", \"x\": [\"health-20941742\", \"sports-20954133\", \"art_and_culture-20927516\", \"art_and_culture-20900470\", \"art_and_culture-20924855\", \"politics_us-20952164\", \"crime-20955365\", \"health-20937946\", \"tech-20949665\", \"sports-20953328\"], \"xaxis\": \"x\", \"y\": [0.3065655212099562, 0.18317191769154004, 0.19242445714849882, 0.25675740960798094, 0.1697089402791157, 0.24472440960826655, 0.2080225903559337, 0.2777235576232685, 0.21226054808243155, 0.24710820436121708], \"yaxis\": \"y\"}, {\"alignmentgroup\": \"True\", \"hovertemplate\": \"algo=RakeExtractor<br>text=%{x}<br>MAP value=%{y}<extra></extra>\", \"legendgroup\": \"RakeExtractor\", \"marker\": {\"color\": \"#FFA15A\"}, \"name\": \"RakeExtractor\", \"offsetgroup\": \"RakeExtractor\", \"orientation\": \"v\", \"showlegend\": true, \"textposition\": \"auto\", \"type\": \"bar\", \"x\": [\"health-20941742\", \"sports-20954133\", \"art_and_culture-20927516\", \"art_and_culture-20900470\", \"art_and_culture-20924855\", \"politics_us-20952164\", \"crime-20955365\", \"health-20937946\", \"tech-20949665\", \"sports-20953328\"], \"xaxis\": \"x\", \"y\": [0.18234434218605583, 0.2003703401615766, 0.19197551596419998, 0.2045348036893021, 0.16998541762898403, 0.1714079952968842, 0.1752467228334299, 0.2020223712470319, 0.18325956379918165, 0.21919546331136908], \"yaxis\": \"y\"}, {\"alignmentgroup\": \"True\", \"hovertemplate\": \"algo=TopicRankExtractor<br>text=%{x}<br>MAP value=%{y}<extra></extra>\", \"legendgroup\": \"TopicRankExtractor\", \"marker\": {\"color\": \"#19d3f3\"}, \"name\": \"TopicRankExtractor\", \"offsetgroup\": \"TopicRankExtractor\", \"orientation\": \"v\", \"showlegend\": true, \"textposition\": \"auto\", \"type\": \"bar\", \"x\": [\"health-20941742\", \"sports-20954133\", \"art_and_culture-20927516\", \"art_and_culture-20900470\", \"art_and_culture-20924855\", \"politics_us-20952164\", \"crime-20955365\", \"health-20937946\", \"tech-20949665\", \"sports-20953328\"], \"xaxis\": \"x\", \"y\": [0.15801128029233258, 0.1897958087189691, 0.1793027621220723, 0.19913193077671368, 0.15989905756569442, 0.238581865665199, 0.12422225772593419, 0.14852727521563716, 0.18380179047658343, 0.19717087975733616], \"yaxis\": \"y\"}, {\"alignmentgroup\": \"True\", \"hovertemplate\": \"algo=SingleRankExtractor<br>text=%{x}<br>MAP value=%{y}<extra></extra>\", \"legendgroup\": \"SingleRankExtractor\", \"marker\": {\"color\": \"#FF6692\"}, \"name\": \"SingleRankExtractor\", \"offsetgroup\": \"SingleRankExtractor\", \"orientation\": \"v\", \"showlegend\": true, \"textposition\": \"auto\", \"type\": \"bar\", \"x\": [\"health-20941742\", \"sports-20954133\", \"art_and_culture-20927516\", \"art_and_culture-20900470\", \"art_and_culture-20924855\", \"politics_us-20952164\", \"crime-20955365\", \"health-20937946\", \"tech-20949665\", \"sports-20953328\"], \"xaxis\": \"x\", \"y\": [0.19983397359999922, 0.19593543748745948, 0.21886192864480683, 0.21604596573519116, 0.21364248985489587, 0.15012428708857278, 0.2184613345316543, 0.18566430870160053, 0.19488526890260643, 0.18619323152090783], \"yaxis\": \"y\"}, {\"alignmentgroup\": \"True\", \"hovertemplate\": \"algo=PositionRankExtractor<br>text=%{x}<br>MAP value=%{y}<extra></extra>\", \"legendgroup\": \"PositionRankExtractor\", \"marker\": {\"color\": \"#B6E880\"}, \"name\": \"PositionRankExtractor\", \"offsetgroup\": \"PositionRankExtractor\", \"orientation\": \"v\", \"showlegend\": true, \"textposition\": \"auto\", \"type\": \"bar\", \"x\": [\"health-20941742\", \"sports-20954133\", \"art_and_culture-20927516\", \"art_and_culture-20900470\", \"art_and_culture-20924855\", \"politics_us-20952164\", \"crime-20955365\", \"health-20937946\", \"tech-20949665\", \"sports-20953328\"], \"xaxis\": \"x\", \"y\": [0.1528162023162023, 0.16117066860786472, 0.14503422252766754, 0.23551728626850005, 0.18837143372152768, 0.32047235750360753, 0.17308923269161677, 0.22533437031477893, 0.18516308123953054, 0.18924070189867956], \"yaxis\": \"y\"}, {\"alignmentgroup\": \"True\", \"hovertemplate\": \"algo=MultipartiteRankExtractor<br>text=%{x}<br>MAP value=%{y}<extra></extra>\", \"legendgroup\": \"MultipartiteRankExtractor\", \"marker\": {\"color\": \"#FF97FF\"}, \"name\": \"MultipartiteRankExtractor\", \"offsetgroup\": \"MultipartiteRankExtractor\", \"orientation\": \"v\", \"showlegend\": true, \"textposition\": \"auto\", \"type\": \"bar\", \"x\": [\"health-20941742\", \"sports-20954133\", \"art_and_culture-20927516\", \"art_and_culture-20900470\", \"art_and_culture-20924855\", \"politics_us-20952164\", \"crime-20955365\", \"health-20937946\", \"tech-20949665\", \"sports-20953328\"], \"xaxis\": \"x\", \"y\": [0.2318218778175488, 0.16853453200733692, 0.1514410388125724, 0.1600017427295359, 0.13220219796306754, 0.2946707806082806, 0.15752884615384613, 0.17887262913640894, 0.2009860151763108, 0.18649528298144324], \"yaxis\": \"y\"}],                        {\"barmode\": \"group\", \"legend\": {\"title\": {\"text\": \"algo\"}, \"tracegroupgap\": 0}, \"template\": {\"data\": {\"bar\": [{\"error_x\": {\"color\": \"#2a3f5f\"}, \"error_y\": {\"color\": \"#2a3f5f\"}, \"marker\": {\"line\": {\"color\": \"#E5ECF6\", \"width\": 0.5}}, \"type\": \"bar\"}], \"barpolar\": [{\"marker\": {\"line\": {\"color\": \"#E5ECF6\", \"width\": 0.5}}, \"type\": \"barpolar\"}], \"carpet\": [{\"aaxis\": {\"endlinecolor\": \"#2a3f5f\", \"gridcolor\": \"white\", \"linecolor\": \"white\", \"minorgridcolor\": \"white\", \"startlinecolor\": \"#2a3f5f\"}, \"baxis\": {\"endlinecolor\": \"#2a3f5f\", \"gridcolor\": \"white\", \"linecolor\": \"white\", \"minorgridcolor\": \"white\", \"startlinecolor\": \"#2a3f5f\"}, \"type\": \"carpet\"}], \"choropleth\": [{\"colorbar\": {\"outlinewidth\": 0, \"ticks\": \"\"}, \"type\": \"choropleth\"}], \"contour\": [{\"colorbar\": {\"outlinewidth\": 0, \"ticks\": \"\"}, \"colorscale\": [[0.0, \"#0d0887\"], [0.1111111111111111, \"#46039f\"], [0.2222222222222222, \"#7201a8\"], [0.3333333333333333, \"#9c179e\"], [0.4444444444444444, \"#bd3786\"], [0.5555555555555556, \"#d8576b\"], [0.6666666666666666, \"#ed7953\"], [0.7777777777777778, \"#fb9f3a\"], [0.8888888888888888, \"#fdca26\"], [1.0, \"#f0f921\"]], \"type\": \"contour\"}], \"contourcarpet\": [{\"colorbar\": {\"outlinewidth\": 0, \"ticks\": \"\"}, \"type\": \"contourcarpet\"}], \"heatmap\": [{\"colorbar\": {\"outlinewidth\": 0, \"ticks\": \"\"}, \"colorscale\": [[0.0, \"#0d0887\"], [0.1111111111111111, \"#46039f\"], [0.2222222222222222, \"#7201a8\"], [0.3333333333333333, \"#9c179e\"], [0.4444444444444444, \"#bd3786\"], [0.5555555555555556, \"#d8576b\"], [0.6666666666666666, \"#ed7953\"], [0.7777777777777778, \"#fb9f3a\"], [0.8888888888888888, \"#fdca26\"], [1.0, \"#f0f921\"]], \"type\": \"heatmap\"}], \"heatmapgl\": [{\"colorbar\": {\"outlinewidth\": 0, \"ticks\": \"\"}, \"colorscale\": [[0.0, \"#0d0887\"], [0.1111111111111111, \"#46039f\"], [0.2222222222222222, \"#7201a8\"], [0.3333333333333333, \"#9c179e\"], [0.4444444444444444, \"#bd3786\"], [0.5555555555555556, \"#d8576b\"], [0.6666666666666666, \"#ed7953\"], [0.7777777777777778, \"#fb9f3a\"], [0.8888888888888888, \"#fdca26\"], [1.0, \"#f0f921\"]], \"type\": \"heatmapgl\"}], \"histogram\": [{\"marker\": {\"colorbar\": {\"outlinewidth\": 0, \"ticks\": \"\"}}, \"type\": \"histogram\"}], \"histogram2d\": [{\"colorbar\": {\"outlinewidth\": 0, \"ticks\": \"\"}, \"colorscale\": [[0.0, \"#0d0887\"], [0.1111111111111111, \"#46039f\"], [0.2222222222222222, \"#7201a8\"], [0.3333333333333333, \"#9c179e\"], [0.4444444444444444, \"#bd3786\"], [0.5555555555555556, \"#d8576b\"], [0.6666666666666666, \"#ed7953\"], [0.7777777777777778, \"#fb9f3a\"], [0.8888888888888888, \"#fdca26\"], [1.0, \"#f0f921\"]], \"type\": \"histogram2d\"}], \"histogram2dcontour\": [{\"colorbar\": {\"outlinewidth\": 0, \"ticks\": \"\"}, \"colorscale\": [[0.0, \"#0d0887\"], [0.1111111111111111, \"#46039f\"], [0.2222222222222222, \"#7201a8\"], [0.3333333333333333, \"#9c179e\"], [0.4444444444444444, \"#bd3786\"], [0.5555555555555556, \"#d8576b\"], [0.6666666666666666, \"#ed7953\"], [0.7777777777777778, \"#fb9f3a\"], [0.8888888888888888, \"#fdca26\"], [1.0, \"#f0f921\"]], \"type\": \"histogram2dcontour\"}], \"mesh3d\": [{\"colorbar\": {\"outlinewidth\": 0, \"ticks\": \"\"}, \"type\": \"mesh3d\"}], \"parcoords\": [{\"line\": {\"colorbar\": {\"outlinewidth\": 0, \"ticks\": \"\"}}, \"type\": \"parcoords\"}], \"pie\": [{\"automargin\": true, \"type\": \"pie\"}], \"scatter\": [{\"marker\": {\"colorbar\": {\"outlinewidth\": 0, \"ticks\": \"\"}}, \"type\": \"scatter\"}], \"scatter3d\": [{\"line\": {\"colorbar\": {\"outlinewidth\": 0, \"ticks\": \"\"}}, \"marker\": {\"colorbar\": {\"outlinewidth\": 0, \"ticks\": \"\"}}, \"type\": \"scatter3d\"}], \"scattercarpet\": [{\"marker\": {\"colorbar\": {\"outlinewidth\": 0, \"ticks\": \"\"}}, \"type\": \"scattercarpet\"}], \"scattergeo\": [{\"marker\": {\"colorbar\": {\"outlinewidth\": 0, \"ticks\": \"\"}}, \"type\": \"scattergeo\"}], \"scattergl\": [{\"marker\": {\"colorbar\": {\"outlinewidth\": 0, \"ticks\": \"\"}}, \"type\": \"scattergl\"}], \"scattermapbox\": [{\"marker\": {\"colorbar\": {\"outlinewidth\": 0, \"ticks\": \"\"}}, \"type\": \"scattermapbox\"}], \"scatterpolar\": [{\"marker\": {\"colorbar\": {\"outlinewidth\": 0, \"ticks\": \"\"}}, \"type\": \"scatterpolar\"}], \"scatterpolargl\": [{\"marker\": {\"colorbar\": {\"outlinewidth\": 0, \"ticks\": \"\"}}, \"type\": \"scatterpolargl\"}], \"scatterternary\": [{\"marker\": {\"colorbar\": {\"outlinewidth\": 0, \"ticks\": \"\"}}, \"type\": \"scatterternary\"}], \"surface\": [{\"colorbar\": {\"outlinewidth\": 0, \"ticks\": \"\"}, \"colorscale\": [[0.0, \"#0d0887\"], [0.1111111111111111, \"#46039f\"], [0.2222222222222222, \"#7201a8\"], [0.3333333333333333, \"#9c179e\"], [0.4444444444444444, \"#bd3786\"], [0.5555555555555556, \"#d8576b\"], [0.6666666666666666, \"#ed7953\"], [0.7777777777777778, \"#fb9f3a\"], [0.8888888888888888, \"#fdca26\"], [1.0, \"#f0f921\"]], \"type\": \"surface\"}], \"table\": [{\"cells\": {\"fill\": {\"color\": \"#EBF0F8\"}, \"line\": {\"color\": \"white\"}}, \"header\": {\"fill\": {\"color\": \"#C8D4E3\"}, \"line\": {\"color\": \"white\"}}, \"type\": \"table\"}]}, \"layout\": {\"annotationdefaults\": {\"arrowcolor\": \"#2a3f5f\", \"arrowhead\": 0, \"arrowwidth\": 1}, \"autotypenumbers\": \"strict\", \"coloraxis\": {\"colorbar\": {\"outlinewidth\": 0, \"ticks\": \"\"}}, \"colorscale\": {\"diverging\": [[0, \"#8e0152\"], [0.1, \"#c51b7d\"], [0.2, \"#de77ae\"], [0.3, \"#f1b6da\"], [0.4, \"#fde0ef\"], [0.5, \"#f7f7f7\"], [0.6, \"#e6f5d0\"], [0.7, \"#b8e186\"], [0.8, \"#7fbc41\"], [0.9, \"#4d9221\"], [1, \"#276419\"]], \"sequential\": [[0.0, \"#0d0887\"], [0.1111111111111111, \"#46039f\"], [0.2222222222222222, \"#7201a8\"], [0.3333333333333333, \"#9c179e\"], [0.4444444444444444, \"#bd3786\"], [0.5555555555555556, \"#d8576b\"], [0.6666666666666666, \"#ed7953\"], [0.7777777777777778, \"#fb9f3a\"], [0.8888888888888888, \"#fdca26\"], [1.0, \"#f0f921\"]], \"sequentialminus\": [[0.0, \"#0d0887\"], [0.1111111111111111, \"#46039f\"], [0.2222222222222222, \"#7201a8\"], [0.3333333333333333, \"#9c179e\"], [0.4444444444444444, \"#bd3786\"], [0.5555555555555556, \"#d8576b\"], [0.6666666666666666, \"#ed7953\"], [0.7777777777777778, \"#fb9f3a\"], [0.8888888888888888, \"#fdca26\"], [1.0, \"#f0f921\"]]}, \"colorway\": [\"#636efa\", \"#EF553B\", \"#00cc96\", \"#ab63fa\", \"#FFA15A\", \"#19d3f3\", \"#FF6692\", \"#B6E880\", \"#FF97FF\", \"#FECB52\"], \"font\": {\"color\": \"#2a3f5f\"}, \"geo\": {\"bgcolor\": \"white\", \"lakecolor\": \"white\", \"landcolor\": \"#E5ECF6\", \"showlakes\": true, \"showland\": true, \"subunitcolor\": \"white\"}, \"hoverlabel\": {\"align\": \"left\"}, \"hovermode\": \"closest\", \"mapbox\": {\"style\": \"light\"}, \"paper_bgcolor\": \"white\", \"plot_bgcolor\": \"#E5ECF6\", \"polar\": {\"angularaxis\": {\"gridcolor\": \"white\", \"linecolor\": \"white\", \"ticks\": \"\"}, \"bgcolor\": \"#E5ECF6\", \"radialaxis\": {\"gridcolor\": \"white\", \"linecolor\": \"white\", \"ticks\": \"\"}}, \"scene\": {\"xaxis\": {\"backgroundcolor\": \"#E5ECF6\", \"gridcolor\": \"white\", \"gridwidth\": 2, \"linecolor\": \"white\", \"showbackground\": true, \"ticks\": \"\", \"zerolinecolor\": \"white\"}, \"yaxis\": {\"backgroundcolor\": \"#E5ECF6\", \"gridcolor\": \"white\", \"gridwidth\": 2, \"linecolor\": \"white\", \"showbackground\": true, \"ticks\": \"\", \"zerolinecolor\": \"white\"}, \"zaxis\": {\"backgroundcolor\": \"#E5ECF6\", \"gridcolor\": \"white\", \"gridwidth\": 2, \"linecolor\": \"white\", \"showbackground\": true, \"ticks\": \"\", \"zerolinecolor\": \"white\"}}, \"shapedefaults\": {\"line\": {\"color\": \"#2a3f5f\"}}, \"ternary\": {\"aaxis\": {\"gridcolor\": \"white\", \"linecolor\": \"white\", \"ticks\": \"\"}, \"baxis\": {\"gridcolor\": \"white\", \"linecolor\": \"white\", \"ticks\": \"\"}, \"bgcolor\": \"#E5ECF6\", \"caxis\": {\"gridcolor\": \"white\", \"linecolor\": \"white\", \"ticks\": \"\"}}, \"title\": {\"x\": 0.05}, \"xaxis\": {\"automargin\": true, \"gridcolor\": \"white\", \"linecolor\": \"white\", \"ticks\": \"\", \"title\": {\"standoff\": 15}, \"zerolinecolor\": \"white\", \"zerolinewidth\": 2}, \"yaxis\": {\"automargin\": true, \"gridcolor\": \"white\", \"linecolor\": \"white\", \"ticks\": \"\", \"title\": {\"standoff\": 15}, \"zerolinecolor\": \"white\", \"zerolinewidth\": 2}}}, \"title\": {\"text\": \"Mean Average Precision\"}, \"xaxis\": {\"anchor\": \"y\", \"domain\": [0.0, 1.0], \"title\": {\"text\": \"text\"}}, \"yaxis\": {\"anchor\": \"x\", \"domain\": [0.0, 1.0], \"title\": {\"text\": \"MAP value\"}}},                        {\"responsive\": true}                    ).then(function(){\n",
       "                            \n",
       "var gd = document.getElementById('8ee91b5f-132e-4b71-96c7-67207b1edcec');\n",
       "var x = new MutationObserver(function (mutations, observer) {{\n",
       "        var display = window.getComputedStyle(gd).display;\n",
       "        if (!display || display === 'none') {{\n",
       "            console.log([gd, 'removed!']);\n",
       "            Plotly.purge(gd);\n",
       "            observer.disconnect();\n",
       "        }}\n",
       "}});\n",
       "\n",
       "// Listen for the removal of the full notebook cells\n",
       "var notebookContainer = gd.closest('#notebook-container');\n",
       "if (notebookContainer) {{\n",
       "    x.observe(notebookContainer, {childList: true});\n",
       "}}\n",
       "\n",
       "// Listen for the clearing of the current output cell\n",
       "var outputEl = gd.closest('.output');\n",
       "if (outputEl) {{\n",
       "    x.observe(outputEl, {childList: true});\n",
       "}}\n",
       "\n",
       "                        })                };                });            </script>        </div>"
      ]
     },
     "metadata": {},
     "output_type": "display_data"
    },
    {
     "data": {
      "text/html": [
       "<div>\n",
       "<style scoped>\n",
       "    .dataframe tbody tr th:only-of-type {\n",
       "        vertical-align: middle;\n",
       "    }\n",
       "\n",
       "    .dataframe tbody tr th {\n",
       "        vertical-align: top;\n",
       "    }\n",
       "\n",
       "    .dataframe thead th {\n",
       "        text-align: right;\n",
       "    }\n",
       "</style>\n",
       "<table border=\"1\" class=\"dataframe\">\n",
       "  <thead>\n",
       "    <tr style=\"text-align: right;\">\n",
       "      <th></th>\n",
       "      <th>text</th>\n",
       "      <th>YakeExtractor</th>\n",
       "      <th>TextRankExtractor</th>\n",
       "      <th>KPMinerExtractor</th>\n",
       "      <th>TfIdfExtractor</th>\n",
       "      <th>RakeExtractor</th>\n",
       "      <th>TopicRankExtractor</th>\n",
       "      <th>SingleRankExtractor</th>\n",
       "      <th>PositionRankExtractor</th>\n",
       "      <th>MultipartiteRankExtractor</th>\n",
       "    </tr>\n",
       "  </thead>\n",
       "  <tbody>\n",
       "    <tr>\n",
       "      <th>0</th>\n",
       "      <td>health-20941742</td>\n",
       "      <td>0.252192</td>\n",
       "      <td>0.165270</td>\n",
       "      <td>0.134444</td>\n",
       "      <td>0.306566</td>\n",
       "      <td>0.182344</td>\n",
       "      <td>0.158011</td>\n",
       "      <td>0.199834</td>\n",
       "      <td>0.152816</td>\n",
       "      <td>0.231822</td>\n",
       "    </tr>\n",
       "    <tr>\n",
       "      <th>1</th>\n",
       "      <td>sports-20954133</td>\n",
       "      <td>0.171345</td>\n",
       "      <td>0.163714</td>\n",
       "      <td>0.214694</td>\n",
       "      <td>0.183172</td>\n",
       "      <td>0.200370</td>\n",
       "      <td>0.189796</td>\n",
       "      <td>0.195935</td>\n",
       "      <td>0.161171</td>\n",
       "      <td>0.168535</td>\n",
       "    </tr>\n",
       "    <tr>\n",
       "      <th>2</th>\n",
       "      <td>art_and_culture-20927516</td>\n",
       "      <td>0.171543</td>\n",
       "      <td>0.178411</td>\n",
       "      <td>0.078974</td>\n",
       "      <td>0.192424</td>\n",
       "      <td>0.191976</td>\n",
       "      <td>0.179303</td>\n",
       "      <td>0.218862</td>\n",
       "      <td>0.145034</td>\n",
       "      <td>0.151441</td>\n",
       "    </tr>\n",
       "    <tr>\n",
       "      <th>3</th>\n",
       "      <td>art_and_culture-20900470</td>\n",
       "      <td>0.196294</td>\n",
       "      <td>0.182044</td>\n",
       "      <td>0.189602</td>\n",
       "      <td>0.256757</td>\n",
       "      <td>0.204535</td>\n",
       "      <td>0.199132</td>\n",
       "      <td>0.216046</td>\n",
       "      <td>0.235517</td>\n",
       "      <td>0.160002</td>\n",
       "    </tr>\n",
       "    <tr>\n",
       "      <th>4</th>\n",
       "      <td>art_and_culture-20924855</td>\n",
       "      <td>0.223431</td>\n",
       "      <td>0.171097</td>\n",
       "      <td>0.189826</td>\n",
       "      <td>0.169709</td>\n",
       "      <td>0.169985</td>\n",
       "      <td>0.159899</td>\n",
       "      <td>0.213642</td>\n",
       "      <td>0.188371</td>\n",
       "      <td>0.132202</td>\n",
       "    </tr>\n",
       "    <tr>\n",
       "      <th>5</th>\n",
       "      <td>politics_us-20952164</td>\n",
       "      <td>0.236509</td>\n",
       "      <td>0.125668</td>\n",
       "      <td>NaN</td>\n",
       "      <td>0.244724</td>\n",
       "      <td>0.171408</td>\n",
       "      <td>0.238582</td>\n",
       "      <td>0.150124</td>\n",
       "      <td>0.320472</td>\n",
       "      <td>0.294671</td>\n",
       "    </tr>\n",
       "    <tr>\n",
       "      <th>6</th>\n",
       "      <td>crime-20955365</td>\n",
       "      <td>0.148509</td>\n",
       "      <td>0.231578</td>\n",
       "      <td>0.161037</td>\n",
       "      <td>0.208023</td>\n",
       "      <td>0.175247</td>\n",
       "      <td>0.124222</td>\n",
       "      <td>0.218461</td>\n",
       "      <td>0.173089</td>\n",
       "      <td>0.157529</td>\n",
       "    </tr>\n",
       "    <tr>\n",
       "      <th>7</th>\n",
       "      <td>health-20937946</td>\n",
       "      <td>0.179519</td>\n",
       "      <td>0.172604</td>\n",
       "      <td>0.147727</td>\n",
       "      <td>0.277724</td>\n",
       "      <td>0.202022</td>\n",
       "      <td>0.148527</td>\n",
       "      <td>0.185664</td>\n",
       "      <td>0.225334</td>\n",
       "      <td>0.178873</td>\n",
       "    </tr>\n",
       "    <tr>\n",
       "      <th>8</th>\n",
       "      <td>tech-20949665</td>\n",
       "      <td>0.182077</td>\n",
       "      <td>0.206927</td>\n",
       "      <td>0.173013</td>\n",
       "      <td>0.212261</td>\n",
       "      <td>0.183260</td>\n",
       "      <td>0.183802</td>\n",
       "      <td>0.194885</td>\n",
       "      <td>0.185163</td>\n",
       "      <td>0.200986</td>\n",
       "    </tr>\n",
       "    <tr>\n",
       "      <th>9</th>\n",
       "      <td>sports-20953328</td>\n",
       "      <td>0.227610</td>\n",
       "      <td>0.178744</td>\n",
       "      <td>0.134699</td>\n",
       "      <td>0.247108</td>\n",
       "      <td>0.219195</td>\n",
       "      <td>0.197171</td>\n",
       "      <td>0.186193</td>\n",
       "      <td>0.189241</td>\n",
       "      <td>0.186495</td>\n",
       "    </tr>\n",
       "  </tbody>\n",
       "</table>\n",
       "</div>"
      ],
      "text/plain": [
       "                       text  YakeExtractor  TextRankExtractor  \\\n",
       "0           health-20941742       0.252192           0.165270   \n",
       "1           sports-20954133       0.171345           0.163714   \n",
       "2  art_and_culture-20927516       0.171543           0.178411   \n",
       "3  art_and_culture-20900470       0.196294           0.182044   \n",
       "4  art_and_culture-20924855       0.223431           0.171097   \n",
       "5      politics_us-20952164       0.236509           0.125668   \n",
       "6            crime-20955365       0.148509           0.231578   \n",
       "7           health-20937946       0.179519           0.172604   \n",
       "8             tech-20949665       0.182077           0.206927   \n",
       "9           sports-20953328       0.227610           0.178744   \n",
       "\n",
       "   KPMinerExtractor  TfIdfExtractor  RakeExtractor  TopicRankExtractor  \\\n",
       "0          0.134444        0.306566       0.182344            0.158011   \n",
       "1          0.214694        0.183172       0.200370            0.189796   \n",
       "2          0.078974        0.192424       0.191976            0.179303   \n",
       "3          0.189602        0.256757       0.204535            0.199132   \n",
       "4          0.189826        0.169709       0.169985            0.159899   \n",
       "5               NaN        0.244724       0.171408            0.238582   \n",
       "6          0.161037        0.208023       0.175247            0.124222   \n",
       "7          0.147727        0.277724       0.202022            0.148527   \n",
       "8          0.173013        0.212261       0.183260            0.183802   \n",
       "9          0.134699        0.247108       0.219195            0.197171   \n",
       "\n",
       "   SingleRankExtractor  PositionRankExtractor  MultipartiteRankExtractor  \n",
       "0             0.199834               0.152816                   0.231822  \n",
       "1             0.195935               0.161171                   0.168535  \n",
       "2             0.218862               0.145034                   0.151441  \n",
       "3             0.216046               0.235517                   0.160002  \n",
       "4             0.213642               0.188371                   0.132202  \n",
       "5             0.150124               0.320472                   0.294671  \n",
       "6             0.218461               0.173089                   0.157529  \n",
       "7             0.185664               0.225334                   0.178873  \n",
       "8             0.194885               0.185163                   0.200986  \n",
       "9             0.186193               0.189241                   0.186495  "
      ]
     },
     "execution_count": 11,
     "metadata": {},
     "output_type": "execute_result"
    }
   ],
   "source": [
    "visual_bench(name='500N-KPCrowd-v1.1', n=10, k=None)"
   ]
  }
 ],
 "metadata": {
  "kernelspec": {
   "display_name": "local-venv",
   "language": "python",
   "name": "local-venv"
  },
  "language_info": {
   "codemirror_mode": {
    "name": "ipython",
    "version": 3
   },
   "file_extension": ".py",
   "mimetype": "text/x-python",
   "name": "python",
   "nbconvert_exporter": "python",
   "pygments_lexer": "ipython3",
   "version": "3.8.5"
  }
 },
 "nbformat": 4,
 "nbformat_minor": 4
}
